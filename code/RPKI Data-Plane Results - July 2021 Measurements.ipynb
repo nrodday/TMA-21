{
 "cells": [
  {
   "cell_type": "markdown",
   "metadata": {},
   "source": [
    "# This Notebook is for generating figures for the RPKI Data-Plane measurements paper."
   ]
  },
  {
   "cell_type": "code",
   "execution_count": 1,
   "metadata": {},
   "outputs": [],
   "source": [
    "import json\n",
    "import matplotlib.pyplot as plt\n",
    "import numpy as np\n",
    "import pickle\n",
    "\n",
    "import schedule_measurements"
   ]
  },
  {
   "cell_type": "code",
   "execution_count": 2,
   "metadata": {},
   "outputs": [],
   "source": [
    "# Load http and traceroute objects\n",
    "#http, traceroute = load_updated_measurements(measurement_ids, folder_prefix, date, previous_day)"
   ]
  },
  {
   "cell_type": "code",
   "execution_count": 3,
   "metadata": {},
   "outputs": [],
   "source": [
    "#This function returns a dict which includes all the ASNs with a count, how often they occured\n",
    "def consecutive_asns(resultsets, position):\n",
    "    counter = {}\n",
    "    for resultset in resultsets:\n",
    "         for asn in resultset['2'][position]:\n",
    "            if asn not in counter:\n",
    "                counter[asn] = 1\n",
    "            else:\n",
    "                counter[asn] += 1\n",
    "    return counter"
   ]
  },
  {
   "cell_type": "markdown",
   "metadata": {},
   "source": [
    "Loading new measurement runs: 2/3, 4/5, 8/9, 16/17 July 2021:"
   ]
  },
  {
   "cell_type": "code",
   "execution_count": 4,
   "metadata": {},
   "outputs": [],
   "source": [
    "#Load resultfiles object\n",
    "folder_prefix = \"Atlas/annet/\"\n",
    "with open(folder_prefix + '20210703/resultset_asns.json') as json_file: resultset_asns_20210703 = json.load(json_file)\n",
    "with open(folder_prefix + '20210705/resultset_asns.json') as json_file: resultset_asns_20210705 = json.load(json_file)\n",
    "with open(folder_prefix + '20210709/resultset_asns.json') as json_file: resultset_asns_20210709 = json.load(json_file)\n",
    "with open(folder_prefix + '20210717/resultset_asns.json') as json_file: resultset_asns_20210717 = json.load(json_file)\n",
    "with open(folder_prefix + '20210719/resultset_asns.json') as json_file: resultset_asns_20210719 = json.load(json_file)\n",
    "with open(folder_prefix + '20201208/PEERING_peers.json', \"r\") as read_file: peering_peers = json.load(read_file)\n",
    "resultsets = [resultset_asns_20210703, resultset_asns_20210705, resultset_asns_20210709, resultset_asns_20210717, resultset_asns_20210719]"
   ]
  },
  {
   "cell_type": "markdown",
   "metadata": {},
   "source": [
    "## Next we are going to print the identification rates of our approach:"
   ]
  },
  {
   "cell_type": "code",
   "execution_count": 5,
   "metadata": {},
   "outputs": [
    {
     "name": "stdout",
     "output_type": "stream",
     "text": [
      "Run, 1hop-Full, Case2a, case2b, 2+hops-Full, case4a, case4b, total_rov, whitelisted, total_minus_strict\n",
      "1 43 181 15 803 2 11 206 630 146\n",
      "2 43 181 15 798 2 10 205 628 147\n",
      "3 42 182 15 775 2 6 202 626 148\n",
      "4 41 175 13 731 2 7 194 628 139\n",
      "5 37 181 12 711 1 8 199 587 151\n"
     ]
    }
   ],
   "source": [
    "print(\"Run, 1hop-Full, Case2a, case2b, 2+hops-Full, case4a, case4b, total_rov, whitelisted, total_minus_strict\")\n",
    "i = 0\n",
    "for resultset in resultsets:\n",
    "    i += 1\n",
    "    print(i, len(resultset['2'][112]), len(resultset['2'][113]), len(resultset['2'][116]), len(resultset['2'][119]), len(resultset['2'][120]), len(resultset['2'][123]), len(resultset['2'][129]),len(resultset['2'][126]),len(resultset['2'][130]))"
   ]
  },
  {
   "cell_type": "markdown",
   "metadata": {},
   "source": [
    "## Next, we generate a bar plot showing how many AS were identified in how many runs:"
   ]
  },
  {
   "cell_type": "code",
   "execution_count": 6,
   "metadata": {},
   "outputs": [
    {
     "name": "stdout",
     "output_type": "stream",
     "text": [
      "This is for Total - strict (Fully filtering)\n",
      "ROV ASNs during all days:  167\n",
      "# ASs which occured 5x:  122\n",
      "# ASs which occured 4x:  14\n",
      "# ASs which occured 3x:  12\n",
      "# ASs which occured 2x:  10\n",
      "# ASs which occured 1x:  9\n"
     ]
    },
    {
     "data": {
      "image/png": "[encoded data removed]",
      "text/plain": [
       "<Figure size 432x288 with 1 Axes>"
      ]
     },
     "metadata": {
      "needs_background": "light"
     },
     "output_type": "display_data"
    },
    {
     "name": "stdout",
     "output_type": "stream",
     "text": [
      "This is for Total ROV - Fully Filtering (Partially filtering)\n",
      "ROV ASNs during all days:  66\n",
      "# ASs which occured 5x:  45\n",
      "# ASs which occured 4x:  5\n",
      "# ASs which occured 3x:  6\n",
      "# ASs which occured 2x:  2\n",
      "# ASs which occured 1x:  8\n"
     ]
    },
    {
     "data": {
      "image/png": "[encoded data removed]",
      "text/plain": [
       "<Figure size 432x288 with 1 Axes>"
      ]
     },
     "metadata": {
      "needs_background": "light"
     },
     "output_type": "display_data"
    },
    {
     "name": "stdout",
     "output_type": "stream",
     "text": [
      "This is for Total Unique ROV (Fully+Partially filtering)\n",
      "ROV ASNs during all days:  221\n",
      "# ASs which occured 5x:  177\n",
      "# ASs which occured 4x:  12\n",
      "# ASs which occured 3x:  15\n",
      "# ASs which occured 2x:  11\n",
      "# ASs which occured 1x:  6\n"
     ]
    },
    {
     "data": {
      "image/png": "[encoded data removed]",
      "text/plain": [
       "<Figure size 432x288 with 1 Axes>"
      ]
     },
     "metadata": {
      "needs_background": "light"
     },
     "output_type": "display_data"
    }
   ],
   "source": [
    "print('This is for Total - strict (Fully filtering)')\n",
    "\n",
    "counter = consecutive_asns(resultsets, 130) #130: total - strict\n",
    "\n",
    "#print(counter)\n",
    "            \n",
    "#print(dict(sorted(counter.items(), key=lambda item: item[1])))\n",
    "print('ROV ASNs during all days: ', len(counter))\n",
    "print('# ASs which occured 5x: ', sum(map((5).__eq__, counter.values())))\n",
    "print('# ASs which occured 4x: ', sum(map((4).__eq__, counter.values())))\n",
    "print('# ASs which occured 3x: ', sum(map((3).__eq__, counter.values())))\n",
    "print('# ASs which occured 2x: ', sum(map((2).__eq__, counter.values())))\n",
    "print('# ASs which occured 1x: ', sum(map((1).__eq__, counter.values())))\n",
    "\n",
    "#Show bar plot\n",
    "x_pos = (sum(map((5).__eq__, counter.values())), sum(map((4).__eq__, counter.values())), sum(map((3).__eq__, counter.values())), sum(map((2).__eq__, counter.values())), sum(map((1).__eq__, counter.values())))\n",
    "height = [5,4,3,2,1]\n",
    "bars = ('5', '4', '3', '2', '1')\n",
    "plt.barh(height, x_pos)\n",
    "plt.show()\n",
    "\n",
    "\n",
    "print('This is for Total ROV - Fully Filtering (Partially filtering)')\n",
    "\n",
    "counter = {}\n",
    "for resultset in resultsets:\n",
    "    partially_filtering = (set(resultset['2'][129]) - set(resultset['2'][130]))\n",
    "    for asn in partially_filtering:\n",
    "        if asn not in counter:\n",
    "            counter[asn] = 1\n",
    "        else:\n",
    "            counter[asn] += 1\n",
    "            \n",
    "#print(dict(sorted(counter.items(), key=lambda item: item[1])))\n",
    "print('ROV ASNs during all days: ', len(counter))\n",
    "\n",
    "print('# ASs which occured 5x: ', sum(map((5).__eq__, counter.values())))\n",
    "print('# ASs which occured 4x: ', sum(map((4).__eq__, counter.values())))\n",
    "print('# ASs which occured 3x: ', sum(map((3).__eq__, counter.values())))\n",
    "print('# ASs which occured 2x: ', sum(map((2).__eq__, counter.values())))\n",
    "print('# ASs which occured 1x: ', sum(map((1).__eq__, counter.values())))\n",
    "\n",
    "#Show bar plot\n",
    "x_pos = (sum(map((5).__eq__, counter.values())), sum(map((4).__eq__, counter.values())), sum(map((3).__eq__, counter.values())), sum(map((2).__eq__, counter.values())), sum(map((1).__eq__, counter.values())))\n",
    "height = [5,4,3,2,1]\n",
    "bars = ('5', '4', '3', '2', '1')\n",
    "plt.barh(height, x_pos)\n",
    "plt.show()\n",
    "\n",
    "\n",
    "\n",
    "print('This is for Total Unique ROV (Fully+Partially filtering)')\n",
    "\n",
    "counter = consecutive_asns(resultsets, 129) #129: total unique rov\n",
    "            \n",
    "#print(dict(sorted(counter.items(), key=lambda item: item[1])))\n",
    "print('ROV ASNs during all days: ', len(counter))\n",
    "\n",
    "print('# ASs which occured 5x: ', sum(map((5).__eq__, counter.values())))\n",
    "print('# ASs which occured 4x: ', sum(map((4).__eq__, counter.values())))\n",
    "print('# ASs which occured 3x: ', sum(map((3).__eq__, counter.values())))\n",
    "print('# ASs which occured 2x: ', sum(map((2).__eq__, counter.values())))\n",
    "print('# ASs which occured 1x: ', sum(map((1).__eq__, counter.values())))\n",
    "\n",
    "#Show bar plot\n",
    "x_pos = (sum(map((5).__eq__, counter.values())), sum(map((4).__eq__, counter.values())), sum(map((3).__eq__, counter.values())), sum(map((2).__eq__, counter.values())), sum(map((1).__eq__, counter.values())))\n",
    "height = [5,4,3,2,1]\n",
    "bars = ('5', '4', '3', '2', '1')\n",
    "plt.barh(height, x_pos)\n",
    "plt.show()"
   ]
  },
  {
   "cell_type": "code",
   "execution_count": 7,
   "metadata": {},
   "outputs": [
    {
     "name": "stdout",
     "output_type": "stream",
     "text": [
      "This is for 1hop - Full reachability\n",
      "ROV ASNs during all days:  46\n",
      "# ASs which occured 5x:  35\n",
      "# ASs which occured 4x:  4\n",
      "# ASs which occured 3x:  3\n",
      "# ASs which occured 2x:  2\n",
      "# ASs which occured 1x:  2\n"
     ]
    },
    {
     "data": {
      "image/png": "[encoded data removed]",
      "text/plain": [
       "<Figure size 432x288 with 1 Axes>"
      ]
     },
     "metadata": {
      "needs_background": "light"
     },
     "output_type": "display_data"
    },
    {
     "name": "stdout",
     "output_type": "stream",
     "text": [
      "This is for 1hop - Invalid fail\n",
      "ROV ASNs during all days:  196\n",
      "# ASs which occured 5x:  160\n",
      "# ASs which occured 4x:  10\n",
      "# ASs which occured 3x:  14\n",
      "# ASs which occured 2x:  6\n",
      "# ASs which occured 1x:  6\n"
     ]
    },
    {
     "data": {
      "image/png": "[encoded data removed]",
      "text/plain": [
       "<Figure size 432x288 with 1 Axes>"
      ]
     },
     "metadata": {
      "needs_background": "light"
     },
     "output_type": "display_data"
    },
    {
     "name": "stdout",
     "output_type": "stream",
     "text": [
      "This is for 1hop - Route divergence\n",
      "ROV ASNs during all days:  15\n",
      "# ASs which occured 5x:  12\n",
      "# ASs which occured 4x:  1\n",
      "# ASs which occured 3x:  2\n",
      "# ASs which occured 2x:  0\n",
      "# ASs which occured 1x:  0\n"
     ]
    },
    {
     "data": {
      "image/png": "[encoded data removed]",
      "text/plain": [
       "<Figure size 432x288 with 1 Axes>"
      ]
     },
     "metadata": {
      "needs_background": "light"
     },
     "output_type": "display_data"
    },
    {
     "name": "stdout",
     "output_type": "stream",
     "text": [
      "This is for 2+hops - Full reachability\n",
      "ROV ASNs during all days:  897\n",
      "# ASs which occured 5x:  596\n",
      "# ASs which occured 4x:  108\n",
      "# ASs which occured 3x:  78\n",
      "# ASs which occured 2x:  57\n",
      "# ASs which occured 1x:  58\n"
     ]
    },
    {
     "data": {
      "image/png": "[encoded data removed]",
      "text/plain": [
       "<Figure size 432x288 with 1 Axes>"
      ]
     },
     "metadata": {
      "needs_background": "light"
     },
     "output_type": "display_data"
    },
    {
     "name": "stdout",
     "output_type": "stream",
     "text": [
      "This is for 2+hops - Invalid fail\n",
      "ROV ASNs during all days:  2\n",
      "# ASs which occured 5x:  1\n",
      "# ASs which occured 4x:  1\n",
      "# ASs which occured 3x:  0\n",
      "# ASs which occured 2x:  0\n",
      "# ASs which occured 1x:  0\n"
     ]
    },
    {
     "data": {
      "image/png": "[encoded data removed]",
      "text/plain": [
       "<Figure size 432x288 with 1 Axes>"
      ]
     },
     "metadata": {
      "needs_background": "light"
     },
     "output_type": "display_data"
    },
    {
     "name": "stdout",
     "output_type": "stream",
     "text": [
      "This is for 2+hop - Route divergence\n",
      "ROV ASNs during all days:  13\n",
      "# ASs which occured 5x:  5\n",
      "# ASs which occured 4x:  1\n",
      "# ASs which occured 3x:  0\n",
      "# ASs which occured 2x:  6\n",
      "# ASs which occured 1x:  1\n"
     ]
    },
    {
     "data": {
      "image/png": "[encoded data removed]",
      "text/plain": [
       "<Figure size 432x288 with 1 Axes>"
      ]
     },
     "metadata": {
      "needs_background": "light"
     },
     "output_type": "display_data"
    },
    {
     "name": "stdout",
     "output_type": "stream",
     "text": [
      "This shows ASes in min.3 runs for the whitelist\n",
      "ROV ASNs during all days:  722\n",
      "# ASs which occured 5x:  503\n",
      "# ASs which occured 4x:  70\n",
      "# ASs which occured 3x:  52\n",
      "# ASs which occured 2x:  51\n",
      "# ASs which occured 1x:  46\n"
     ]
    },
    {
     "data": {
      "image/png": "[encoded data removed]",
      "text/plain": [
       "<Figure size 432x288 with 1 Axes>"
      ]
     },
     "metadata": {
      "needs_background": "light"
     },
     "output_type": "display_data"
    }
   ],
   "source": [
    "print('This is for 1hop - Full reachability')\n",
    "\n",
    "counter = consecutive_asns(resultsets, 112) #140: 1_hop_successful_unique_total\n",
    "\n",
    "#print(counter)\n",
    "            \n",
    "#print(dict(sorted(counter.items(), key=lambda item: item[1])))\n",
    "print('ROV ASNs during all days: ', len(counter))\n",
    "print('# ASs which occured 5x: ', sum(map((5).__eq__, counter.values())))\n",
    "print('# ASs which occured 4x: ', sum(map((4).__eq__, counter.values())))\n",
    "print('# ASs which occured 3x: ', sum(map((3).__eq__, counter.values())))\n",
    "print('# ASs which occured 2x: ', sum(map((2).__eq__, counter.values())))\n",
    "print('# ASs which occured 1x: ', sum(map((1).__eq__, counter.values())))\n",
    "\n",
    "#Show bar plot\n",
    "x_pos = (sum(map((5).__eq__, counter.values())), sum(map((4).__eq__, counter.values())), sum(map((3).__eq__, counter.values())), sum(map((2).__eq__, counter.values())), sum(map((1).__eq__, counter.values())))\n",
    "height = [5,4,3,2,1]\n",
    "bars = ('5', '4', '3', '2', '1')\n",
    "plt.barh(height, x_pos)\n",
    "plt.show()\n",
    "\n",
    "\n",
    "print('This is for 1hop - Invalid fail')\n",
    "\n",
    "counter = consecutive_asns(resultsets, 113) #113: case2a_unique_total\n",
    "\n",
    "#print(counter)\n",
    "            \n",
    "#print(dict(sorted(counter.items(), key=lambda item: item[1])))\n",
    "print('ROV ASNs during all days: ', len(counter))\n",
    "print('# ASs which occured 5x: ', sum(map((5).__eq__, counter.values())))\n",
    "print('# ASs which occured 4x: ', sum(map((4).__eq__, counter.values())))\n",
    "print('# ASs which occured 3x: ', sum(map((3).__eq__, counter.values())))\n",
    "print('# ASs which occured 2x: ', sum(map((2).__eq__, counter.values())))\n",
    "print('# ASs which occured 1x: ', sum(map((1).__eq__, counter.values())))\n",
    "\n",
    "#Show bar plot\n",
    "x_pos = (sum(map((5).__eq__, counter.values())), sum(map((4).__eq__, counter.values())), sum(map((3).__eq__, counter.values())), sum(map((2).__eq__, counter.values())), sum(map((1).__eq__, counter.values())))\n",
    "height = [5,4,3,2,1]\n",
    "bars = ('5', '4', '3', '2', '1')\n",
    "plt.barh(height, x_pos)\n",
    "plt.show()\n",
    "\n",
    "\n",
    "print('This is for 1hop - Route divergence')\n",
    "\n",
    "counter = consecutive_asns(resultsets, 116) #116: case2b_unique_total\n",
    "\n",
    "#print(counter)\n",
    "            \n",
    "#print(dict(sorted(counter.items(), key=lambda item: item[1])))\n",
    "print('ROV ASNs during all days: ', len(counter))\n",
    "print('# ASs which occured 5x: ', sum(map((5).__eq__, counter.values())))\n",
    "print('# ASs which occured 4x: ', sum(map((4).__eq__, counter.values())))\n",
    "print('# ASs which occured 3x: ', sum(map((3).__eq__, counter.values())))\n",
    "print('# ASs which occured 2x: ', sum(map((2).__eq__, counter.values())))\n",
    "print('# ASs which occured 1x: ', sum(map((1).__eq__, counter.values())))\n",
    "\n",
    "#Show bar plot\n",
    "x_pos = (sum(map((5).__eq__, counter.values())), sum(map((4).__eq__, counter.values())), sum(map((3).__eq__, counter.values())), sum(map((2).__eq__, counter.values())), sum(map((1).__eq__, counter.values())))\n",
    "height = [5,4,3,2,1]\n",
    "bars = ('5', '4', '3', '2', '1')\n",
    "plt.barh(height, x_pos)\n",
    "plt.show()\n",
    "\n",
    "\n",
    "print('This is for 2+hops - Full reachability')\n",
    "\n",
    "counter = consecutive_asns(resultsets, 119) #119: 2plus_hop_successful_unique_total\n",
    "\n",
    "#print(counter)\n",
    "            \n",
    "#print(dict(sorted(counter.items(), key=lambda item: item[1])))\n",
    "print('ROV ASNs during all days: ', len(counter))\n",
    "print('# ASs which occured 5x: ', sum(map((5).__eq__, counter.values())))\n",
    "print('# ASs which occured 4x: ', sum(map((4).__eq__, counter.values())))\n",
    "print('# ASs which occured 3x: ', sum(map((3).__eq__, counter.values())))\n",
    "print('# ASs which occured 2x: ', sum(map((2).__eq__, counter.values())))\n",
    "print('# ASs which occured 1x: ', sum(map((1).__eq__, counter.values())))\n",
    "\n",
    "#Show bar plot\n",
    "x_pos = (sum(map((5).__eq__, counter.values())), sum(map((4).__eq__, counter.values())), sum(map((3).__eq__, counter.values())), sum(map((2).__eq__, counter.values())), sum(map((1).__eq__, counter.values())))\n",
    "height = [5,4,3,2,1]\n",
    "bars = ('5', '4', '3', '2', '1')\n",
    "plt.barh(height, x_pos)\n",
    "plt.show()\n",
    "\n",
    "\n",
    "print('This is for 2+hops - Invalid fail')\n",
    "\n",
    "counter = consecutive_asns(resultsets, 120) #120: case4a_unique_total\n",
    "\n",
    "#print(counter)\n",
    "            \n",
    "#print(dict(sorted(counter.items(), key=lambda item: item[1])))\n",
    "print('ROV ASNs during all days: ', len(counter))\n",
    "print('# ASs which occured 5x: ', sum(map((5).__eq__, counter.values())))\n",
    "print('# ASs which occured 4x: ', sum(map((4).__eq__, counter.values())))\n",
    "print('# ASs which occured 3x: ', sum(map((3).__eq__, counter.values())))\n",
    "print('# ASs which occured 2x: ', sum(map((2).__eq__, counter.values())))\n",
    "print('# ASs which occured 1x: ', sum(map((1).__eq__, counter.values())))\n",
    "\n",
    "#Show bar plot\n",
    "x_pos = (sum(map((5).__eq__, counter.values())), sum(map((4).__eq__, counter.values())), sum(map((3).__eq__, counter.values())), sum(map((2).__eq__, counter.values())), sum(map((1).__eq__, counter.values())))\n",
    "height = [5,4,3,2,1]\n",
    "bars = ('5', '4', '3', '2', '1')\n",
    "plt.barh(height, x_pos)\n",
    "plt.show()\n",
    "\n",
    "\n",
    "print('This is for 2+hop - Route divergence')\n",
    "\n",
    "counter = consecutive_asns(resultsets, 123) #123: case4b_unique_total\n",
    "\n",
    "#print(counter)\n",
    "            \n",
    "#print(dict(sorted(counter.items(), key=lambda item: item[1])))\n",
    "print('ROV ASNs during all days: ', len(counter))\n",
    "print('# ASs which occured 5x: ', sum(map((5).__eq__, counter.values())))\n",
    "print('# ASs which occured 4x: ', sum(map((4).__eq__, counter.values())))\n",
    "print('# ASs which occured 3x: ', sum(map((3).__eq__, counter.values())))\n",
    "print('# ASs which occured 2x: ', sum(map((2).__eq__, counter.values())))\n",
    "print('# ASs which occured 1x: ', sum(map((1).__eq__, counter.values())))\n",
    "\n",
    "#Show bar plot\n",
    "x_pos = (sum(map((5).__eq__, counter.values())), sum(map((4).__eq__, counter.values())), sum(map((3).__eq__, counter.values())), sum(map((2).__eq__, counter.values())), sum(map((1).__eq__, counter.values())))\n",
    "height = [5,4,3,2,1]\n",
    "bars = ('5', '4', '3', '2', '1')\n",
    "plt.barh(height, x_pos)\n",
    "plt.show()\n",
    "\n",
    "\n",
    "\n",
    "\n",
    "print('This shows ASes in min.3 runs for the whitelist')\n",
    "\n",
    "counter = consecutive_asns(resultsets, 126) #126: unique_total_whitelist_strict\n",
    "\n",
    "#print(counter)\n",
    "            \n",
    "#print(dict(sorted(counter.items(), key=lambda item: item[1])))\n",
    "print('ROV ASNs during all days: ', len(counter))\n",
    "print('# ASs which occured 5x: ', sum(map((5).__eq__, counter.values())))\n",
    "print('# ASs which occured 4x: ', sum(map((4).__eq__, counter.values())))\n",
    "print('# ASs which occured 3x: ', sum(map((3).__eq__, counter.values())))\n",
    "print('# ASs which occured 2x: ', sum(map((2).__eq__, counter.values())))\n",
    "print('# ASs which occured 1x: ', sum(map((1).__eq__, counter.values())))\n",
    "\n",
    "#Show bar plot\n",
    "x_pos = (sum(map((5).__eq__, counter.values())), sum(map((4).__eq__, counter.values())), sum(map((3).__eq__, counter.values())), sum(map((2).__eq__, counter.values())), sum(map((1).__eq__, counter.values())))\n",
    "height = [5,4,3,2,1]\n",
    "bars = ('5', '4', '3', '2', '1')\n",
    "plt.barh(height, x_pos)\n",
    "plt.show()"
   ]
  },
  {
   "cell_type": "markdown",
   "metadata": {},
   "source": [
    "## Calculate Union of all measurement runs "
   ]
  },
  {
   "cell_type": "code",
   "execution_count": 8,
   "metadata": {},
   "outputs": [
    {
     "name": "stdout",
     "output_type": "stream",
     "text": [
      "Union of all runs for 1hop - Full reachability 46\n",
      "Union of all runs for 1hop - Invalid fail 196\n",
      "Union of all runs for 1hop - route divergence 15\n",
      "Union of all runs for 2hop - Full reachability 897\n",
      "Union of all runs for 2hop - Invalid fail 2\n",
      "Union of all runs for 2hop - route divergence 13\n",
      "Union of all runs for Total unique ROV 221\n",
      "Union of all runs for whitelist 155\n",
      "Union of all runs for fully filtering 167\n"
     ]
    }
   ],
   "source": [
    "print('Union of all runs for 1hop - Full reachability', len(consecutive_asns(resultsets, 112))) #112: 1_hop_successful_unique_total\n",
    "print('Union of all runs for 1hop - Invalid fail', len(consecutive_asns(resultsets, 113))) #113: 1hop invalid fail\n",
    "print('Union of all runs for 1hop - route divergence', len(consecutive_asns(resultsets, 116))) #116: 1hop route divergence\n",
    "\n",
    "print('Union of all runs for 2hop - Full reachability', len(consecutive_asns(resultsets, 119))) #119: 2+hop Full reachability\n",
    "print('Union of all runs for 2hop - Invalid fail', len(consecutive_asns(resultsets, 120))) #120: 2hop invalid fail\n",
    "print('Union of all runs for 2hop - route divergence', len(consecutive_asns(resultsets, 123))) #123: 2hop route divergence\n",
    "\n",
    "print('Union of all runs for Total unique ROV', len(consecutive_asns(resultsets, 129))) #129: rov_unique_total\n",
    "\n",
    "print('Union of all runs for whitelist', len(consecutive_asns(resultsets, 127))) #127: unique_total_whitelist_strict\n",
    "\n",
    "print('Union of all runs for fully filtering', len(consecutive_asns(resultsets, 130))) #130: total - strict\n"
   ]
  },
  {
   "cell_type": "markdown",
   "metadata": {},
   "source": [
    "## We will obtain the PEERING peer list and the RIPE Atlas probe list to tell how many RIPE Atlas probes we used and how many of those are directly connected to PEERING."
   ]
  },
  {
   "cell_type": "code",
   "execution_count": 9,
   "metadata": {},
   "outputs": [
    {
     "name": "stdout",
     "output_type": "stream",
     "text": [
      "Unique ASNs: 3697\n",
      "Total probes: 5543\n",
      "Probes per ASN: 1.4993237760346227\n",
      "Number of directly connected IPv4 ASs to PEERING:  174\n",
      "Number of RIPE Atlas Vantage Points directly connected to PEERING:  73\n",
      "\n"
     ]
    }
   ],
   "source": [
    "# Get probes used for this measurement\n",
    "unique_asns = dict()\n",
    "with open('Atlas/20210626.json') as json_file:\n",
    "    data = json.load(json_file)\n",
    "    for p in data['objects']:\n",
    "        if p['status_name'] == \"Connected\" and p['asn_v4'] != None:\n",
    "            if not p['asn_v4'] in unique_asns:\n",
    "                unique_asns[p['asn_v4']] = []\n",
    "            unique_asns[p['asn_v4']].append(p['id'])\n",
    "\n",
    "    print('Unique ASNs: ' + str((len(unique_asns))))\n",
    "\n",
    "    total_probes = 0\n",
    "    probes = []\n",
    "    for key, value in unique_asns.items():\n",
    "        # only use first 3 probes for every ASN\n",
    "        if len(value) > 3:\n",
    "            value = value[:3]\n",
    "\n",
    "        total_probes += len(value)\n",
    "        for probe in value:\n",
    "            probes.append(probe)\n",
    "\n",
    "    print('Total probes: ' + str((total_probes)))\n",
    "    print('Probes per ASN: ' + str(total_probes / (len(unique_asns))))\n",
    "    probes.sort()\n",
    "    \n",
    "RIPE_unique_asns = set()\n",
    "for asn in unique_asns.keys(): RIPE_unique_asns.add(str(asn))\n",
    "\n",
    "# Transform PEERING json into set\n",
    "PEERING_asns = set()\n",
    "for peer in peering_peers:\n",
    "    if peer['IP version'] == 'IPv4' and peer['Peer ASN'] != None and peer['Route Server'] != True:\n",
    "        PEERING_asns.add(peer['Peer ASN'])\n",
    "        \n",
    "print('Number of directly connected IPv4 ASs to PEERING: ', len(PEERING_asns))\n",
    "\n",
    "RIPE_to_PEERING = RIPE_unique_asns.intersection(PEERING_asns)\n",
    "print('Number of RIPE Atlas Vantage Points directly connected to PEERING: ', len(RIPE_to_PEERING))\n",
    "print()\n",
    "\n"
   ]
  },
  {
   "cell_type": "markdown",
   "metadata": {},
   "source": [
    "## How many of directly connected RIPE Atlas probes have been flagged as ROV enforcing? \n",
    "\n",
    "We only need to check for case2a as for case2b we don´t have anything for ams and seattle w/o the routeservers."
   ]
  },
  {
   "cell_type": "code",
   "execution_count": 10,
   "metadata": {},
   "outputs": [
    {
     "name": "stdout",
     "output_type": "stream",
     "text": [
      "ASNs more than 3 times in measurements for Seattle: \n",
      "18106\n",
      "6939\n",
      "ASNs more than 3 times in measurements for AMS: \n",
      "1241\n",
      "37100\n",
      "18106\n",
      "6939\n",
      "29208\n",
      "1200\n",
      "3265\n",
      "3303\n",
      "ASNs more than 3 times in measurements for gatech: \n",
      "ASNs more than 3 times in measurements for uw: \n",
      "30781\n",
      "ASNs more than 3 times in measurements for grnet: \n",
      "\n",
      "Number of ASN that got flagged as ROV-filtering more than 3x and are RIPE Vantage Points directly connected to the PEERING testbed:  9\n",
      "\n",
      "{'18106', '3265', '6939', '3303', '1241', '1200', '29208', '37100', '30781'}\n"
     ]
    }
   ],
   "source": [
    "ROV_peering_and_ripe = set()\n",
    "\n",
    "# This is to check 3days consecutives for Seattle\n",
    "#print('Seattle case2a >= 3 days')\n",
    "counter = consecutive_asns(resultsets, 15) #15: seattle_wo_RS 2a\n",
    "#print(dict(sorted(seattle_case2a_counter.items(), key=lambda item: item[1])))\n",
    "#print('ROV ASNs during all days: ', len(counter))\n",
    "#print('# ASs which occured 5x: ', sum(map((5).__eq__, counter.values())))\n",
    "#print('# ASs which occured 4x: ', sum(map((4).__eq__, counter.values())))\n",
    "#print('# ASs which occured 3x: ', sum(map((3).__eq__, counter.values())))\n",
    "#print('# ASs which occured 2x: ', sum(map((2).__eq__, counter.values())))\n",
    "#print('# ASs which occured 1x: ', sum(map((1).__eq__, counter.values())))\n",
    "#print() \n",
    "\n",
    "print('ASNs more than 3 times in measurements for Seattle: ')\n",
    "for k,v in counter.items():\n",
    "    if v >= 3 and k in RIPE_to_PEERING:\n",
    "        print(k)\n",
    "        ROV_peering_and_ripe.add(k)\n",
    "\n",
    "    \n",
    "# This is to check 3days consecutives for Amsterdam\n",
    "#print()\n",
    "#print('Amsterdam case2a >= 3 days')\n",
    "counter = consecutive_asns(resultsets, 29) #29: amsterdam_wo_RS 2a\n",
    "#print(dict(sorted(seattle_case2a_counter.items(), key=lambda item: item[1])))\n",
    "#print('ROV ASNs during all days: ', len(counter))\n",
    "#print('# ASs which occured 5x: ', sum(map((5).__eq__, counter.values())))\n",
    "#print('# ASs which occured 4x: ', sum(map((4).__eq__, counter.values())))\n",
    "#print('# ASs which occured 3x: ', sum(map((3).__eq__, counter.values())))\n",
    "#print('# ASs which occured 2x: ', sum(map((2).__eq__, counter.values())))\n",
    "#print('# ASs which occured 1x: ', sum(map((1).__eq__, counter.values())))\n",
    "#print()\n",
    "print('ASNs more than 3 times in measurements for AMS: ')\n",
    "for k,v in counter.items():\n",
    "    if v >= 3 and k in RIPE_to_PEERING:\n",
    "        print(k)\n",
    "        ROV_peering_and_ripe.add(k)\n",
    "        \n",
    "        \n",
    "counter = consecutive_asns(resultsets, 57) #57: gatech 2a\n",
    "print('ASNs more than 3 times in measurements for gatech: ')\n",
    "for k,v in counter.items():\n",
    "    if v >= 3 and k in RIPE_to_PEERING:\n",
    "        print(k)\n",
    "        ROV_peering_and_ripe.add(k)\n",
    "        \n",
    "counter = consecutive_asns(resultsets, 71) #71: uw 2a\n",
    "print('ASNs more than 3 times in measurements for uw: ')\n",
    "for k,v in counter.items():\n",
    "    if v >= 3 and k in RIPE_to_PEERING:\n",
    "        print(k)\n",
    "        ROV_peering_and_ripe.add(k)\n",
    "\n",
    "counter = consecutive_asns(resultsets, 85) #71: grnet 2a\n",
    "print('ASNs more than 3 times in measurements for grnet: ')\n",
    "for k,v in counter.items():\n",
    "    if v >= 3 and k in RIPE_to_PEERING:\n",
    "        print(k)\n",
    "        ROV_peering_and_ripe.add(k)\n",
    "\n",
    "print()\n",
    "print('Number of ASN that got flagged as ROV-filtering more than 3x and are RIPE Vantage Points directly connected to the PEERING testbed: ', len(ROV_peering_and_ripe))\n",
    "print()\n",
    "print(ROV_peering_and_ripe)\n"
   ]
  },
  {
   "cell_type": "code",
   "execution_count": null,
   "metadata": {},
   "outputs": [],
   "source": []
  },
  {
   "cell_type": "markdown",
   "metadata": {},
   "source": [
    "1241 - ForthNet - CONFIRMED (GRNog Mailinglist)<br>\n",
    "30781 - Jaguar Networks - CONFIRMED (Twitter)<br>\n",
    "29208 - Dial Telecom s.p.a -  <br>\n",
    "37100 - SeaCOM - CONFIRMED (APNIC Blog) <br>\n",
    "18106 - Viewqwest - CONFIRMED via https://stats.labs.apnic.net/rpki/AS18106<br>\n",
    "6939 - Hurricane Electric - CONFIRMED (Policy Website)<br>\n",
    "1200 - AMS Internet Exchange - CONFIRMED <br>\n",
    "3265 - XS4ALL - CONFIRMED (NlNog Mailinglist)<br>\n",
    "3303 - Swisscom - CONFIRMED (Twitter)<br>"
   ]
  },
  {
   "cell_type": "code",
   "execution_count": 11,
   "metadata": {},
   "outputs": [],
   "source": [
    "#We check for case2b"
   ]
  },
  {
   "cell_type": "code",
   "execution_count": 12,
   "metadata": {},
   "outputs": [
    {
     "name": "stdout",
     "output_type": "stream",
     "text": [
      "ASNs more than 3 times in measurements for Seattle: \n",
      "ASNs more than 3 times in measurements for AMS: \n",
      "8283\n",
      "ASNs more than 3 times in measurements for gatech: \n",
      "ASNs more than 3 times in measurements for uw: \n",
      "ASNs more than 3 times in measurements for grnet: \n",
      "\n",
      "Number of ASN that got flagged as ROV-filtering more than 3x and are RIPE Vantage Points directly connected to the PEERING testbed:  1\n",
      "\n",
      "{'8283'}\n"
     ]
    }
   ],
   "source": [
    "ROV_peering_and_ripe = set()\n",
    "\n",
    "# This is to check 3days consecutives for Seattle\n",
    "#print('Seattle case2a >= 3 days')\n",
    "counter = consecutive_asns(resultsets, 4) #4: seattle_wo_RS 2b\n",
    "#print(dict(sorted(seattle_case2a_counter.items(), key=lambda item: item[1])))\n",
    "#print('ROV ASNs during all days: ', len(counter))\n",
    "#print('# ASs which occured 5x: ', sum(map((5).__eq__, counter.values())))\n",
    "#print('# ASs which occured 4x: ', sum(map((4).__eq__, counter.values())))\n",
    "#print('# ASs which occured 3x: ', sum(map((3).__eq__, counter.values())))\n",
    "#print('# ASs which occured 2x: ', sum(map((2).__eq__, counter.values())))\n",
    "#print('# ASs which occured 1x: ', sum(map((1).__eq__, counter.values())))\n",
    "#print() \n",
    "\n",
    "print('ASNs more than 3 times in measurements for Seattle: ')\n",
    "for k,v in counter.items():\n",
    "    if v >= 1 and k in RIPE_to_PEERING:\n",
    "        print(k)\n",
    "        ROV_peering_and_ripe.add(k)\n",
    "\n",
    "    \n",
    "# This is to check 3days consecutives for Amsterdam\n",
    "#print()\n",
    "#print('Amsterdam case2a >= 3 days')\n",
    "counter = consecutive_asns(resultsets, 32) #32: amsterdam_wo_RS 2b\n",
    "#print(dict(sorted(seattle_case2a_counter.items(), key=lambda item: item[1])))\n",
    "#print('ROV ASNs during all days: ', len(counter))\n",
    "#print('# ASs which occured 5x: ', sum(map((5).__eq__, counter.values())))\n",
    "#print('# ASs which occured 4x: ', sum(map((4).__eq__, counter.values())))\n",
    "#print('# ASs which occured 3x: ', sum(map((3).__eq__, counter.values())))\n",
    "#print('# ASs which occured 2x: ', sum(map((2).__eq__, counter.values())))\n",
    "#print('# ASs which occured 1x: ', sum(map((1).__eq__, counter.values())))\n",
    "#print()\n",
    "print('ASNs more than 3 times in measurements for AMS: ')\n",
    "for k,v in counter.items():\n",
    "    if v >= 1 and k in RIPE_to_PEERING:\n",
    "        print(k)\n",
    "        ROV_peering_and_ripe.add(k)\n",
    "        \n",
    "        \n",
    "counter = consecutive_asns(resultsets, 60) #60: gatech 2b\n",
    "print('ASNs more than 3 times in measurements for gatech: ')\n",
    "for k,v in counter.items():\n",
    "    if v >= 1 and k in RIPE_to_PEERING:\n",
    "        print(k)\n",
    "        ROV_peering_and_ripe.add(k)\n",
    "        \n",
    "counter = consecutive_asns(resultsets, 74) #74: uw 2b\n",
    "print('ASNs more than 3 times in measurements for uw: ')\n",
    "for k,v in counter.items():\n",
    "    if v >= 1 and k in RIPE_to_PEERING:\n",
    "        print(k)\n",
    "        ROV_peering_and_ripe.add(k)\n",
    "\n",
    "counter = consecutive_asns(resultsets, 88) #88: grnet 2b\n",
    "print('ASNs more than 3 times in measurements for grnet: ')\n",
    "for k,v in counter.items():\n",
    "    if v >= 1 and k in RIPE_to_PEERING:\n",
    "        print(k)\n",
    "        ROV_peering_and_ripe.add(k)\n",
    "\n",
    "print()\n",
    "print('Number of ASN that got flagged as ROV-filtering more than 3x and are RIPE Vantage Points directly connected to the PEERING testbed: ', len(ROV_peering_and_ripe))\n",
    "print()\n",
    "print(ROV_peering_and_ripe)\n"
   ]
  },
  {
   "cell_type": "markdown",
   "metadata": {},
   "source": [
    "8283 - Coloclue - CONFIRMED (WhoIs)<br>"
   ]
  },
  {
   "cell_type": "markdown",
   "metadata": {},
   "source": [
    "We create the data for a table that shows the differentiation into IXP/non-IXP identifications with the help of \"RS\", \"all peers without RS\" and \"all peers\" prefix pairs."
   ]
  },
  {
   "cell_type": "code",
   "execution_count": 13,
   "metadata": {},
   "outputs": [
    {
     "name": "stdout",
     "output_type": "stream",
     "text": [
      "Only Seattle Routeserver identification: \n",
      "Seattle Routeserver:  33\n",
      "Seattle w/o Routeserver:  2\n",
      "Union:  33\n",
      "Difference RS (only in RS but not in wo_RS):  31\n",
      "Difference w/o RS (only in wo_RS but not in RS):  0\n",
      "Intersection:  2\n",
      "\n",
      "Only Amsterdam Routeserver identification: \n",
      "Amsterdam Routeserver:  166\n",
      "Amsterdam w/o Routeserver:  9\n",
      "Union:  171\n",
      "Difference RS (only in RS but not in wo_RS):  162\n",
      "Difference w/o RS (only in wo_RS but not in RS):  5\n",
      "Intersection:  4\n",
      "\n",
      "Unique ASes for AMS + Seattle via RS:  177\n",
      "ASes identified for both, AMS + Seattle via RS:  9\n"
     ]
    }
   ],
   "source": [
    "seattle_RS_case2a = set()\n",
    "counter = consecutive_asns(resultsets, 1) #1: seattle_RS 2a\n",
    "for k,v in counter.items():\n",
    "    if v >= 3:\n",
    "        #print(k)\n",
    "        seattle_RS_case2a.add(k)\n",
    "\n",
    "seattle_wo_RS_case2a = set()\n",
    "counter = consecutive_asns(resultsets, 15) #15: seattle_wo_RS 2a\n",
    "for k,v in counter.items():\n",
    "    if v >= 3 and k in RIPE_to_PEERING: #for case2a we need the PEERING filter\n",
    "        #print(k)\n",
    "        seattle_wo_RS_case2a.add(k)\n",
    "        \n",
    "seattle_RS_case2b = set()\n",
    "counter = consecutive_asns(resultsets, 4) #4: seattle_RS 2b\n",
    "for k,v in counter.items():\n",
    "    if v >= 3:\n",
    "        #print(k)\n",
    "        seattle_RS_case2b.add(k)\n",
    "\n",
    "seattle_wo_RS_case2b = set()\n",
    "counter = consecutive_asns(resultsets, 18) #18: seattle_wo_RS 2b\n",
    "for k,v in counter.items():\n",
    "    if v >= 3 and k in RIPE_to_PEERING: #for case2a we need the PEERING filter\n",
    "        #print(k)\n",
    "        seattle_wo_RS_case2b.add(k)\n",
    "        \n",
    "print(\"Only Seattle Routeserver identification: \")\n",
    "print(\"Seattle Routeserver: \", len(seattle_RS_case2a | seattle_RS_case2b))\n",
    "print(\"Seattle w/o Routeserver: \", len(seattle_wo_RS_case2a | seattle_wo_RS_case2b))\n",
    "print(\"Union: \",len((seattle_RS_case2a | seattle_RS_case2b) | (seattle_wo_RS_case2a | seattle_wo_RS_case2b)))\n",
    "print(\"Difference RS (only in RS but not in wo_RS): \", len((seattle_RS_case2a | seattle_RS_case2b) - (seattle_wo_RS_case2a | seattle_wo_RS_case2b)))\n",
    "print(\"Difference w/o RS (only in wo_RS but not in RS): \", len((seattle_wo_RS_case2a | seattle_wo_RS_case2b) - (seattle_RS_case2a | seattle_RS_case2b)))\n",
    "print(\"Intersection: \", len((seattle_wo_RS_case2a | seattle_wo_RS_case2b) & (seattle_RS_case2a | seattle_RS_case2b)))\n",
    "#print('Only w/o RS ROV: ', seattle_wo_RS_case2a)\n",
    "\n",
    "\n",
    "\n",
    "\n",
    "amsterdam_RS_case2a = set()\n",
    "counter = consecutive_asns(resultsets, 43) #43: amsterdam_RS 2a\n",
    "for k,v in counter.items():\n",
    "    if v >= 3:\n",
    "        #print(k)\n",
    "        amsterdam_RS_case2a.add(k)\n",
    "\n",
    "amsterdam_wo_RS_case2a = set()\n",
    "counter = consecutive_asns(resultsets, 29) #29: amsterdam_wo_RS 2a\n",
    "for k,v in counter.items():\n",
    "    if v >= 3 and k in RIPE_to_PEERING: #for case2a we need the PEERING filter\n",
    "        #print(k)\n",
    "        amsterdam_wo_RS_case2a.add(k)\n",
    "        \n",
    "amsterdam_RS_case2b = set()\n",
    "counter = consecutive_asns(resultsets, 46) #46: amsterdam_RS 2b\n",
    "for k,v in counter.items():\n",
    "    if v >= 3:\n",
    "        #print(k)\n",
    "        amsterdam_RS_case2b.add(k)\n",
    "\n",
    "amsterdam_wo_RS_case2b = set()\n",
    "counter = consecutive_asns(resultsets, 32) #32: amsterdam_wo_RS 2a\n",
    "for k,v in counter.items():\n",
    "    if v >= 3 and k in RIPE_to_PEERING: #for case2a we need the PEERING filter\n",
    "        #print(k)\n",
    "        amsterdam_wo_RS_case2b.add(k)\n",
    "\n",
    "print()\n",
    "print(\"Only Amsterdam Routeserver identification: \")\n",
    "print(\"Amsterdam Routeserver: \", len(amsterdam_RS_case2a | amsterdam_RS_case2b))\n",
    "print(\"Amsterdam w/o Routeserver: \", len(amsterdam_wo_RS_case2a | amsterdam_wo_RS_case2b))\n",
    "print(\"Union: \",len((amsterdam_RS_case2a | amsterdam_RS_case2b) | (amsterdam_wo_RS_case2a | amsterdam_wo_RS_case2b)))\n",
    "print(\"Difference RS (only in RS but not in wo_RS): \", len((amsterdam_RS_case2a | amsterdam_RS_case2b) - (amsterdam_wo_RS_case2a | amsterdam_wo_RS_case2b)))\n",
    "print(\"Difference w/o RS (only in wo_RS but not in RS): \", len((amsterdam_wo_RS_case2a | amsterdam_wo_RS_case2b) - (amsterdam_RS_case2a | amsterdam_RS_case2b)))\n",
    "print(\"Intersection: \", len((amsterdam_wo_RS_case2a | amsterdam_wo_RS_case2b) & (amsterdam_RS_case2a | amsterdam_RS_case2b)))\n",
    "#print('Only w/o RS ROV: ', amsterdam_wo_RS_case2a)\n",
    "\n",
    "print()\n",
    "#check unique number of routeserver identifications by union of the two sets:\n",
    "print('Unique ASes for AMS + Seattle via RS: ', len(amsterdam_RS_case2a | seattle_RS_case2a))\n",
    "print('ASes identified for both, AMS + Seattle via RS: ', len(amsterdam_RS_case2a & seattle_RS_case2a))"
   ]
  },
  {
   "cell_type": "code",
   "execution_count": null,
   "metadata": {},
   "outputs": [],
   "source": []
  },
  {
   "cell_type": "markdown",
   "metadata": {},
   "source": []
  },
  {
   "cell_type": "markdown",
   "metadata": {},
   "source": [
    "## We are going to check if all ROV identifications for AMS and Seattle that are left are via routeserver, e.g. if those ASNs are members at Seattle-IX or AMS-IX"
   ]
  },
  {
   "cell_type": "code",
   "execution_count": 14,
   "metadata": {},
   "outputs": [
    {
     "name": "stdout",
     "output_type": "stream",
     "text": [
      "Seattle Routeserver:  33\n",
      "ROV flagged ASs in case2a RS for Seattle but not members of IXP:  {'37002', '35277', '196621', '35000', '2914', '57370'}\n"
     ]
    }
   ],
   "source": [
    "with open('Atlas/SeattleSIX_participants_20210718.json') as json_file: seattleSIX = json.load(json_file)\n",
    "with open('Atlas/AMSIX_participants_20210718.json') as json_file: amSIX = json.load(json_file) \n",
    "\n",
    "print(\"Seattle Routeserver: \", len(seattle_RS_case2a))\n",
    "#print(seattle_RS_case2a)\n",
    "\n",
    "seattleSIX_members = set()\n",
    "for member in seattleSIX['member_list']:\n",
    "    seattleSIX_members.add(str(member['asnum'])) \n",
    "#print(seattleSIX_members)\n",
    "\n",
    "print('ROV flagged ASs in case2a RS for Seattle but not members of IXP: ', seattle_RS_case2a - seattleSIX_members)\n"
   ]
  },
  {
   "cell_type": "code",
   "execution_count": 15,
   "metadata": {},
   "outputs": [
    {
     "name": "stdout",
     "output_type": "stream",
     "text": [
      "AMS Routeserver:  153\n",
      "ROV flagged ASs in case2a RS for AMS but not members of IXP:  {'37002', '34687', '57370', '198260', '196621', '37497', '9026', '49800', '201011'}\n"
     ]
    }
   ],
   "source": [
    "print(\"AMS Routeserver: \", len(amsterdam_RS_case2a))\n",
    "#print(amsterdam_RS_case2a) \n",
    "    \n",
    "amSIX_members = set()\n",
    "for member in amSIX['member_list']:\n",
    "    amSIX_members.add(str(member['asnum'])) \n",
    "#print(amSIX_members)\n",
    "\n",
    "print('ROV flagged ASs in case2a RS for AMS but not members of IXP: ', amsterdam_RS_case2a - amSIX_members)\n"
   ]
  },
  {
   "cell_type": "markdown",
   "metadata": {},
   "source": [
    "Apprently, 1 for Seattle and 11 for AMS are not members of the respective IXP. Manual investigations showed that those ASs had significantly longer delays (ca. 100ms) compared to members of the IXP (ca. 50ms). We assume this could be due to invisible tunnels. Remote Peering could be the reason."
   ]
  },
  {
   "cell_type": "markdown",
   "metadata": {},
   "source": [
    "## 2+ hops ROV-identifications:"
   ]
  },
  {
   "cell_type": "code",
   "execution_count": 16,
   "metadata": {},
   "outputs": [
    {
     "name": "stdout",
     "output_type": "stream",
     "text": [
      "Total unique case4a > 3x:  {'2914', '8194'}\n",
      "Total unique case4b > 3x:  {'12297', '8764', '61568', '50581', '3257', '11537', '8283', '5056', '1299', '8359', '2914', '174'}\n"
     ]
    }
   ],
   "source": [
    "total_unique_case4a = set()\n",
    "counter = consecutive_asns(resultsets, 120) #120: Total unique case4a\n",
    "for k,v in counter.items():\n",
    "    if v >= 2:\n",
    "        #print(k)\n",
    "        total_unique_case4a.add(k)\n",
    "        \n",
    "total_unique_case4b = set()\n",
    "counter = consecutive_asns(resultsets, 123) #123: Total unique case4b\n",
    "for k,v in counter.items():\n",
    "    if v >= 2:\n",
    "        #print(k)\n",
    "        total_unique_case4b.add(k)\n",
    "        \n",
    "        \n",
    "print('Total unique case4a > 3x: ', total_unique_case4a)\n",
    "\n",
    "print('Total unique case4b > 3x: ', total_unique_case4b)"
   ]
  },
  {
   "cell_type": "markdown",
   "metadata": {},
   "source": [
    "Case4a:<br>\n",
    "8194 - AS-VITA  - not confirmed <br>\n",
    "2914 - NTT: CONFIRMED (Multiple sources)<br>"
   ]
  },
  {
   "cell_type": "markdown",
   "metadata": {},
   "source": [
    "Case4b:<br>\n",
    "1299 - Telia: CONFIRMED (WhoIs)<br>\n",
    "174 - Cogent: CONFIRMED (Annoucement 5.6.2020)<br>\n",
    "3257 - GTT: CONFIRMED (Twitter)<br>\n",
    "2914 - NTT: CONFIRMED (Multiple sources)<br>\n",
    "8764 - Telia Lietuva, AB: No confirmation, but likely since 1299 Telia deploys worldwide<br>\n",
    "\n",
    "11537 - Internet2 - not confirmed <br>\n",
    "50581 - Ukrainian Telecommunication Group Ltd. - <br>\n",
    "61568 - FSF Tecnologia LTDA ME -  <br>\n",
    "12297 - Telecom Armenia CJSC -  <br>\n",
    "8359 - Mobile TeleSystems PJSC <br>\n",
    "\n",
    "\n",
    "IXP identifications for those 18 ROV identifications (checked manually for day 08.12.2020):<br>\n",
    "(temporary debug mode for the case4a and case4b dumps and looking at the traceroute IXP flags)<br>\n",
    "\n",
    "\n",
    "8985: noIXP<br>\n",
    "42668: noIXP<br>\n",
    "<br>\n",
    "6453: noIXP<br>\n",
    "2914: noIXP<br>\n",
    "174: noIXP and IXP<br>\n",
    "38195: noIXP<br>\n",
    "1299: noIXP and IXP<br>\n",
    "47147: noIXP<br>\n",
    "3257: noIXP<br>\n",
    "<br>\n",
    "53708: noIXP<br>\n",
    "9304: noIXP<br>\n",
    "3330: noIXP<br>\n",
    "8732: noIXP<br>\n",
    "8881: noIXP<br>\n",
    "60476: noIXP<br>\n",
    "8764: noIXP<br>\n",
    "43531: noIXP<br>\n",
    "16097: noIXP<br>\n",
    "\n",
    "\n"
   ]
  },
  {
   "cell_type": "markdown",
   "metadata": {},
   "source": [
    "## How many of those crossed an IXP facility?"
   ]
  },
  {
   "cell_type": "code",
   "execution_count": null,
   "metadata": {},
   "outputs": [],
   "source": []
  },
  {
   "cell_type": "code",
   "execution_count": 17,
   "metadata": {},
   "outputs": [],
   "source": [
    "#ToDo: Implementation! Do we have out of those 18 any that were identified and also have IXP flags set in any of the traces?"
   ]
  },
  {
   "cell_type": "markdown",
   "metadata": {},
   "source": [
    "## How many of the 11 + 18 + 192 are partially and fully filtering?"
   ]
  },
  {
   "cell_type": "code",
   "execution_count": 18,
   "metadata": {},
   "outputs": [
    {
     "name": "stdout",
     "output_type": "stream",
     "text": [
      "{'2914', '8194'}\n",
      "{'12297', '8764', '61568', '50581', '3257', '11537', '8283', '5056', '1299', '8359', '2914', '174'}\n",
      "{'16276', '42184', '8866', '56911', '199181', '44684', '56550', '559', '8821', '38182', '42541', '8468', '9304', '61438', '57370', '50673', '199938', '37002', '49544', '12414', '39637', '34177', '18106', '30844', '5524', '50629', '8447', '21221', '15435', '3327', '12731', '25220', '9136', '201971', '31424', '9299', '39923', '2852', '34549', '8767', '39122', '4657', '48362', '1140', '196621', '29208', '24961', '17451', '51088', '43996', '6939', '60022', '8551', '8473', '34288', '13101', '12578', '201011', '31122', '9145', '28725', '15576', '25091', '7713', '15600', '34019', '56647', '20886', '8315', '47836', '8422', '20857', '197692', '2018', '8400', '39704', '6724', '12850', '15547', '4800', '49981', '8839', '24586', '49800', '8487', '8426', '58291', '1267', '31673', '57169', '43942', '15605', '48200', '1103', '13237', '44735', '1241', '24642', '9044', '15879', '25291', '12637', '5466', '25133', '12859', '24940', '15763', '35320', '12779', '3267', '21263', '50309', '9498', '9026', '41327', '12759', '60294', '8262', '31042', '29632', '42707', '15943', '137409', '12876', '3333', '43350', '29396', '37497', '15703', '47447', '13122', '8758', '38158', '43366', '8881', '39351', '63927', '198260', '35574', '20766', '45899', '203596', '25151', '13285', '197219', '50304', '34687', '6661', '34087', '25596', '12714', '47869', '28917'}\n",
      "{'19653', '14371', '19969', '15133', '6939', '11090', '9318', '57370', '20055', '37002', '49544', '803', '7713', '7782', '32097', '13331', '19171', '35000', '18106', '10242', '63927', '35277', '852', '36351', '36817', '26370', '9299', '4474', '11404', '393552', '201106', '196621', '2914'}\n",
      "{'21013', '43437', '12605', '12695', '198930', '5416', '41090', '47764', '50343', '25478', '35598', '31029', '8399'}\n",
      "set()\n",
      "{'8283'}\n"
     ]
    }
   ],
   "source": [
    "print(total_unique_case4a)\n",
    "print(total_unique_case4b)\n",
    "\n",
    "print(amsterdam_RS_case2a)\n",
    "print(seattle_RS_case2a)\n",
    "print(amsterdam_RS_case2b)\n",
    "print(seattle_RS_case2b)\n",
    "\n",
    "print(ROV_peering_and_ripe)\n",
    "\n"
   ]
  },
  {
   "cell_type": "code",
   "execution_count": 21,
   "metadata": {},
   "outputs": [
    {
     "name": "stdout",
     "output_type": "stream",
     "text": [
      "Union:  189\n",
      "Split into partially and fully filtering: \n",
      "Get ASes in min.3 runs for the whitelist\n",
      "625\n",
      "All identification partially filtering:  143\n",
      "All identification fully filtering:  46\n"
     ]
    }
   ],
   "source": [
    "#print(len(total_unique_case4a))\n",
    "#print(len(total_unique_case4b))\n",
    "#print(len(amsterdam_RS_case2a))\n",
    "#print(len(seattle_RS_case2a))\n",
    "#print(len(ROV_peering_and_ripe))\n",
    "\n",
    "all_identifications = (total_unique_case4a | total_unique_case4b | amsterdam_RS_case2a | seattle_RS_case2a | ROV_peering_and_ripe)\n",
    "print('Union: ', len(all_identifications))\n",
    "print('Split into partially and fully filtering: ')\n",
    "\n",
    "\n",
    "print('Get ASes in min.3 runs for the whitelist')\n",
    "whitelist_3days = set()\n",
    "counter = consecutive_asns(resultsets, 126) #126: unique_total_whitelist_strict\n",
    "\n",
    "for asn in counter:\n",
    "    if counter[asn] >= 3:\n",
    "        whitelist_3days.add(asn)\n",
    "        \n",
    "print(len(whitelist_3days))\n",
    "\n",
    "partially_filtering = all_identifications - whitelist_3days\n",
    "print('All identification partially filtering: ', len(all_identifications - whitelist_3days))\n",
    "print('All identification fully filtering: ', len(all_identifications - partially_filtering))"
   ]
  },
  {
   "cell_type": "code",
   "execution_count": 27,
   "metadata": {},
   "outputs": [],
   "source": [
    "#Show how much data we throw away:\n",
    "all_traces = pickle.load(open(folder_prefix + \"/\" + '20210719' + \"/all_traces.pickle\", \"rb\"))"
   ]
  },
  {
   "cell_type": "code",
   "execution_count": 28,
   "metadata": {},
   "outputs": [
    {
     "name": "stdout",
     "output_type": "stream",
     "text": [
      "37792\n"
     ]
    }
   ],
   "source": [
    "print(len(all_traces))\n"
   ]
  },
  {
   "cell_type": "code",
   "execution_count": 29,
   "metadata": {},
   "outputs": [
    {
     "name": "stdout",
     "output_type": "stream",
     "text": [
      "28344\n"
     ]
    }
   ],
   "source": [
    "pop = 'grnet'\n",
    "for i in range(0,len(all_traces)):\n",
    "    if pop == all_traces[i][8]: #all_traces: (previous_day_probe_anchor, previous_day_probe_experiment, probe, probe_2, id, day, identification_label, ixp_info, pop)\n",
    "        print(i)\n",
    "        break\n"
   ]
  },
  {
   "cell_type": "code",
   "execution_count": 30,
   "metadata": {},
   "outputs": [
    {
     "name": "stdout",
     "output_type": "stream",
     "text": [
      "seattle_RS\n",
      "seattle_wo_RS\n",
      "5143\n"
     ]
    }
   ],
   "source": [
    "print(all_traces[10286][8]) #start of amsterdam_wo_RS\n",
    "print(all_traces[15429][8]) #start of gatech\n",
    "print(15429-10286)"
   ]
  },
  {
   "cell_type": "code",
   "execution_count": 32,
   "metadata": {},
   "outputs": [
    {
     "name": "stdout",
     "output_type": "stream",
     "text": [
      "seattle_RS\n",
      "Overall data:  4724\n",
      "Usable data:  963\n",
      "\n",
      "seattle_wo_RS\n",
      "Overall data:  4724\n",
      "Usable data:  1134\n",
      "\n",
      "amsterdam_wo_RS\n",
      "Overall data:  4724\n",
      "Usable data:  1218\n",
      "\n",
      "gatech\n",
      "Overall data:  4724\n",
      "Usable data:  2255\n",
      "\n",
      "grnet\n",
      "Overall data:  4724\n",
      "Usable data:  338\n",
      "\n",
      "uw\n",
      "Overall data:  4724\n",
      "Usable data:  1953\n",
      "\n",
      "amsterdam_RS\n",
      "Overall data:  4724\n",
      "Usable data:  1223\n",
      "\n"
     ]
    }
   ],
   "source": [
    "#For amsterdam_wo_RS prefix:\n",
    "#pops = [\"seattle_RS\", \"seattle_wo_RS\", \"amsterdam_wo_RS\", \"gatech\", \"grnet\", \"phoenix\", \"uw\", \"amsterdam\", \"seattle\", \"amsterdam_RS\"]  # December \n",
    "pops = [\"seattle_RS\", \"seattle_wo_RS\", \"amsterdam_wo_RS\", \"gatech\", \"grnet\", \"uw\", \"amsterdam_RS\"]  # July\n",
    "for pop in pops:\n",
    "    usable_data_counter = 0\n",
    "    total_data_counter = 0\n",
    "    for probe in all_traces:\n",
    "        if pop == probe[8]:\n",
    "            total_data_counter += 1\n",
    "            previous_day_probe_anchor = probe[0]\n",
    "            previous_day_probe_experiment = probe[1]\n",
    "            probe_anchor = probe[2]\n",
    "            probe_experiment = probe[3]\n",
    "            if ('*' not in probe_anchor[\"asn_path\"] and probe_anchor['reached_PEERING'] == True and #Anchor invalid day could reach PEERING\n",
    "                '*' not in previous_day_probe_anchor[\"asn_path\"] and previous_day_probe_anchor[\"reached_PEERING\"] == True and #Anchor valid day could reach PEERING\n",
    "                '*' not in previous_day_probe_experiment[\"asn_path\"] and previous_day_probe_experiment[\"reached_PEERING\"] == True and #Experiment valid day could reach PEERING\n",
    "                probe_anchor[\"asn_path\"] == previous_day_probe_anchor[\"asn_path\"] == previous_day_probe_experiment[\"asn_path\"]): #All paths are equal (except for experiment day2)\n",
    "                #print(previous_day_probe_anchor[\"asn_path\"])\n",
    "                #print(previous_day_probe_experiment[\"asn_path\"])\n",
    "                #print(probe_anchor[\"asn_path\"])\n",
    "                #print(probe_experiment[\"asn_path\"])\n",
    "                #print(probe[4])\n",
    "                usable_data_counter += 1\n",
    "\n",
    "    print(pop)\n",
    "    print('Overall data: ', total_data_counter)\n",
    "    print('Usable data: ', usable_data_counter)\n",
    "    print()\n"
   ]
  },
  {
   "cell_type": "code",
   "execution_count": null,
   "metadata": {},
   "outputs": [],
   "source": []
  },
  {
   "cell_type": "code",
   "execution_count": null,
   "metadata": {},
   "outputs": [],
   "source": []
  }
 ],
 "metadata": {
  "kernelspec": {
   "display_name": "Python 3",
   "language": "python",
   "name": "python3"
  },
  "language_info": {
   "codemirror_mode": {
    "name": "ipython",
    "version": 3
   },
   "file_extension": ".py",
   "mimetype": "text/x-python",
   "name": "python",
   "nbconvert_exporter": "python",
   "pygments_lexer": "ipython3",
   "version": "3.6.8"
  }
 },
 "nbformat": 4,
 "nbformat_minor": 4
}
